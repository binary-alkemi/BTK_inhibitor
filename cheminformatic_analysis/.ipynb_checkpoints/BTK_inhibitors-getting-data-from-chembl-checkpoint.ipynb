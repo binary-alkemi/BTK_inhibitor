{
 "cells": [
  {
   "cell_type": "markdown",
   "metadata": {},
   "source": [
    "## Analysis of Bruton’s tyrosine kinase (BTK) inhibitors from CHEMBL"
   ]
  },
  {
   "cell_type": "markdown",
   "metadata": {},
   "source": [
    "## Reference: \n",
    "\n",
    "1. This analysis is inspired by [TeachopenCADD Tutorials](https://volkamerlab.org/projects/teachopencadd/). [Github link of TeachopenCADD](https://github.com/volkamerlab/TeachOpenCADD)\n",
    "2. Nice introduction to CHEMBL API [here](https://mybinder.org/v2/gh/chembl/chembl_webresource_client/138bf286734aef30f53c5f959629339f1ac61d1c)"
   ]
  },
  {
   "cell_type": "code",
   "execution_count": 1,
   "metadata": {},
   "outputs": [],
   "source": [
    "## Loading Python modules\n",
    "import numpy as np\n",
    "import pandas as pd\n",
    "import matplotlib.pyplot as plt\n",
    "import math\n",
    "from pathlib import Path\n",
    "\n",
    "## Loading Chem-related Python modules\n",
    "from rdkit.Chem import PandasTools\n",
    "from chembl_webresource_client.new_client import new_client\n",
    "from tqdm.auto import tqdm"
   ]
  },
  {
   "cell_type": "code",
   "execution_count": 2,
   "metadata": {},
   "outputs": [],
   "source": [
    "# Noting start time\n",
    "import time\n",
    "start = time.time()"
   ]
  },
  {
   "cell_type": "code",
   "execution_count": 3,
   "metadata": {},
   "outputs": [],
   "source": [
    "# Setting Path of working directory"
   ]
  },
  {
   "cell_type": "code",
   "execution_count": 4,
   "metadata": {},
   "outputs": [],
   "source": [
    "HERE = Path(_dh[-1])\n",
    "DATA = HERE / \"data\""
   ]
  },
  {
   "cell_type": "code",
   "execution_count": 5,
   "metadata": {},
   "outputs": [
    {
     "data": {
      "text/plain": [
       "PosixPath('/home/mandar/Dropbox/kinase_project/BTK_inhibitors/cheminformatic_analysis')"
      ]
     },
     "execution_count": 5,
     "metadata": {},
     "output_type": "execute_result"
    }
   ],
   "source": [
    "HERE"
   ]
  },
  {
   "cell_type": "code",
   "execution_count": 6,
   "metadata": {},
   "outputs": [],
   "source": [
    "## Setting up Chembl webclient objects\n",
    "targets_api = new_client.target\n",
    "compounds_api = new_client.molecule\n",
    "bioactivities_api = new_client.activity"
   ]
  },
  {
   "cell_type": "code",
   "execution_count": 7,
   "metadata": {},
   "outputs": [
    {
     "data": {
      "text/plain": [
       "chembl_webresource_client.query_set.QuerySet"
      ]
     },
     "execution_count": 7,
     "metadata": {},
     "output_type": "execute_result"
    }
   ],
   "source": [
    "type(targets_api)"
   ]
  },
  {
   "cell_type": "markdown",
   "metadata": {},
   "source": [
    "# Target: BTK\n",
    "* UniProt ID of BTK:[Q06187](http://www.uniprot.org/uniprot/Q06187) from [UniProt website](https://www.uniprot.org/)"
   ]
  },
  {
   "cell_type": "code",
   "execution_count": 8,
   "metadata": {},
   "outputs": [],
   "source": [
    "uniprot_id = \"Q06187\""
   ]
  },
  {
   "cell_type": "markdown",
   "metadata": {},
   "source": [
    "#### Fetch target data from ChEMBL"
   ]
  },
  {
   "cell_type": "code",
   "execution_count": 9,
   "metadata": {},
   "outputs": [
    {
     "name": "stdout",
     "output_type": "stream",
     "text": [
      "The type of the targets is \"<class 'chembl_webresource_client.query_set.QuerySet'>\"\n"
     ]
    }
   ],
   "source": [
    "# Get target information from ChEMBL but restrict it to specified values only\n",
    "targets = targets_api.get(target_components__accession=uniprot_id).only(\n",
    "    \"target_chembl_id\", \"organism\", \"pref_name\", \"target_type\"\n",
    ")\n",
    "print(f'The type of the targets is \"{type(targets)}\"')"
   ]
  },
  {
   "cell_type": "code",
   "execution_count": 10,
   "metadata": {},
   "outputs": [
    {
     "data": {
      "text/plain": [
       "[{'organism': 'Homo sapiens', 'pref_name': 'Tyrosine-protein kinase BTK', 'target_chembl_id': 'CHEMBL5251', 'target_type': 'SINGLE PROTEIN'}, {'organism': 'Homo sapiens', 'pref_name': 'TEC family kinase', 'target_chembl_id': 'CHEMBL4296642', 'target_type': 'PROTEIN FAMILY'}, {'organism': 'Homo sapiens', 'pref_name': 'Protein cereblon/Tyrosine-protein kinase BTK', 'target_chembl_id': 'CHEMBL4523704', 'target_type': 'PROTEIN-PROTEIN INTERACTION'}, {'organism': 'Homo sapiens', 'pref_name': 'VHL/Tyrosine-protein kinase BTK', 'target_chembl_id': 'CHEMBL4630740', 'target_type': 'PROTEIN-PROTEIN INTERACTION'}]"
      ]
     },
     "execution_count": 10,
     "metadata": {},
     "output_type": "execute_result"
    }
   ],
   "source": [
    "targets"
   ]
  },
  {
   "cell_type": "code",
   "execution_count": 11,
   "metadata": {},
   "outputs": [
    {
     "data": {
      "text/html": [
       "<div>\n",
       "<style scoped>\n",
       "    .dataframe tbody tr th:only-of-type {\n",
       "        vertical-align: middle;\n",
       "    }\n",
       "\n",
       "    .dataframe tbody tr th {\n",
       "        vertical-align: top;\n",
       "    }\n",
       "\n",
       "    .dataframe thead th {\n",
       "        text-align: right;\n",
       "    }\n",
       "</style>\n",
       "<table border=\"1\" class=\"dataframe\">\n",
       "  <thead>\n",
       "    <tr style=\"text-align: right;\">\n",
       "      <th></th>\n",
       "      <th>organism</th>\n",
       "      <th>pref_name</th>\n",
       "      <th>target_chembl_id</th>\n",
       "      <th>target_type</th>\n",
       "    </tr>\n",
       "  </thead>\n",
       "  <tbody>\n",
       "    <tr>\n",
       "      <th>0</th>\n",
       "      <td>Homo sapiens</td>\n",
       "      <td>Tyrosine-protein kinase BTK</td>\n",
       "      <td>CHEMBL5251</td>\n",
       "      <td>SINGLE PROTEIN</td>\n",
       "    </tr>\n",
       "    <tr>\n",
       "      <th>1</th>\n",
       "      <td>Homo sapiens</td>\n",
       "      <td>Tyrosine-protein kinase BTK</td>\n",
       "      <td>CHEMBL5251</td>\n",
       "      <td>SINGLE PROTEIN</td>\n",
       "    </tr>\n",
       "    <tr>\n",
       "      <th>2</th>\n",
       "      <td>Homo sapiens</td>\n",
       "      <td>TEC family kinase</td>\n",
       "      <td>CHEMBL4296642</td>\n",
       "      <td>PROTEIN FAMILY</td>\n",
       "    </tr>\n",
       "    <tr>\n",
       "      <th>3</th>\n",
       "      <td>Homo sapiens</td>\n",
       "      <td>Protein cereblon/Tyrosine-protein kinase BTK</td>\n",
       "      <td>CHEMBL4523704</td>\n",
       "      <td>PROTEIN-PROTEIN INTERACTION</td>\n",
       "    </tr>\n",
       "    <tr>\n",
       "      <th>4</th>\n",
       "      <td>Homo sapiens</td>\n",
       "      <td>VHL/Tyrosine-protein kinase BTK</td>\n",
       "      <td>CHEMBL4630740</td>\n",
       "      <td>PROTEIN-PROTEIN INTERACTION</td>\n",
       "    </tr>\n",
       "  </tbody>\n",
       "</table>\n",
       "</div>"
      ],
      "text/plain": [
       "       organism                                     pref_name  \\\n",
       "0  Homo sapiens                   Tyrosine-protein kinase BTK   \n",
       "1  Homo sapiens                   Tyrosine-protein kinase BTK   \n",
       "2  Homo sapiens                             TEC family kinase   \n",
       "3  Homo sapiens  Protein cereblon/Tyrosine-protein kinase BTK   \n",
       "4  Homo sapiens               VHL/Tyrosine-protein kinase BTK   \n",
       "\n",
       "  target_chembl_id                  target_type  \n",
       "0       CHEMBL5251               SINGLE PROTEIN  \n",
       "1       CHEMBL5251               SINGLE PROTEIN  \n",
       "2    CHEMBL4296642               PROTEIN FAMILY  \n",
       "3    CHEMBL4523704  PROTEIN-PROTEIN INTERACTION  \n",
       "4    CHEMBL4630740  PROTEIN-PROTEIN INTERACTION  "
      ]
     },
     "execution_count": 11,
     "metadata": {},
     "output_type": "execute_result"
    }
   ],
   "source": [
    "df_targets = pd.DataFrame.from_records(targets)\n",
    "df_targets"
   ]
  },
  {
   "cell_type": "markdown",
   "metadata": {},
   "source": [
    "# Chosing CHEMBL5251"
   ]
  },
  {
   "cell_type": "code",
   "execution_count": 12,
   "metadata": {},
   "outputs": [
    {
     "data": {
      "text/plain": [
       "organism                           Homo sapiens\n",
       "pref_name           Tyrosine-protein kinase BTK\n",
       "target_chembl_id                     CHEMBL5251\n",
       "target_type                      SINGLE PROTEIN\n",
       "Name: 0, dtype: object"
      ]
     },
     "execution_count": 12,
     "metadata": {},
     "output_type": "execute_result"
    }
   ],
   "source": [
    "target = df_targets.iloc[0]\n",
    "target"
   ]
  },
  {
   "cell_type": "code",
   "execution_count": 13,
   "metadata": {},
   "outputs": [
    {
     "name": "stdout",
     "output_type": "stream",
     "text": [
      "The target ChEMBL ID is CHEMBL5251\n"
     ]
    }
   ],
   "source": [
    "chembl_id = target.target_chembl_id\n",
    "print(f\"The target ChEMBL ID is {chembl_id}\")"
   ]
  },
  {
   "cell_type": "markdown",
   "metadata": {},
   "source": [
    "# Getting activity"
   ]
  },
  {
   "cell_type": "code",
   "execution_count": 14,
   "metadata": {},
   "outputs": [
    {
     "name": "stdout",
     "output_type": "stream",
     "text": [
      "Length and type of bioactivities object: 3816, <class 'chembl_webresource_client.query_set.QuerySet'>\n"
     ]
    }
   ],
   "source": [
    "bioactivities = bioactivities_api.filter(target_chembl_id=chembl_id, type=\"IC50\", relation=\"=\", assay_type=\"B\"\n",
    ").only(\"activity_id\", \"assay_chembl_id\", \"assay_description\",\n",
    "    \"assay_type\",\n",
    "    \"molecule_chembl_id\",\n",
    "    \"type\",\n",
    "    \"standard_units\",\n",
    "    \"relation\",\n",
    "    \"standard_value\",\n",
    "    \"target_chembl_id\",\n",
    "    \"target_organism\",\n",
    ")\n",
    "\n",
    "print(f\"Length and type of bioactivities object: {len(bioactivities)}, {type(bioactivities)}\")"
   ]
  },
  {
   "cell_type": "code",
   "execution_count": 15,
   "metadata": {},
   "outputs": [
    {
     "data": {
      "text/html": [
       "<div>\n",
       "<style scoped>\n",
       "    .dataframe tbody tr th:only-of-type {\n",
       "        vertical-align: middle;\n",
       "    }\n",
       "\n",
       "    .dataframe tbody tr th {\n",
       "        vertical-align: top;\n",
       "    }\n",
       "\n",
       "    .dataframe thead th {\n",
       "        text-align: right;\n",
       "    }\n",
       "</style>\n",
       "<table border=\"1\" class=\"dataframe\">\n",
       "  <thead>\n",
       "    <tr style=\"text-align: right;\">\n",
       "      <th></th>\n",
       "      <th>activity_id</th>\n",
       "      <th>assay_chembl_id</th>\n",
       "      <th>assay_description</th>\n",
       "      <th>assay_type</th>\n",
       "      <th>molecule_chembl_id</th>\n",
       "      <th>relation</th>\n",
       "      <th>standard_units</th>\n",
       "      <th>standard_value</th>\n",
       "      <th>target_chembl_id</th>\n",
       "      <th>target_organism</th>\n",
       "      <th>type</th>\n",
       "      <th>units</th>\n",
       "      <th>value</th>\n",
       "    </tr>\n",
       "  </thead>\n",
       "  <tbody>\n",
       "    <tr>\n",
       "      <th>0</th>\n",
       "      <td>1173948</td>\n",
       "      <td>CHEMBL648220</td>\n",
       "      <td>Inhibition of Brutons tyrosine kinase</td>\n",
       "      <td>B</td>\n",
       "      <td>CHEMBL281957</td>\n",
       "      <td>=</td>\n",
       "      <td>nM</td>\n",
       "      <td>0.4</td>\n",
       "      <td>CHEMBL5251</td>\n",
       "      <td>Homo sapiens</td>\n",
       "      <td>IC50</td>\n",
       "      <td>uM</td>\n",
       "      <td>0.0004</td>\n",
       "    </tr>\n",
       "    <tr>\n",
       "      <th>1</th>\n",
       "      <td>1173948</td>\n",
       "      <td>CHEMBL648220</td>\n",
       "      <td>Inhibition of Brutons tyrosine kinase</td>\n",
       "      <td>B</td>\n",
       "      <td>CHEMBL281957</td>\n",
       "      <td>=</td>\n",
       "      <td>nM</td>\n",
       "      <td>0.4</td>\n",
       "      <td>CHEMBL5251</td>\n",
       "      <td>Homo sapiens</td>\n",
       "      <td>IC50</td>\n",
       "      <td>uM</td>\n",
       "      <td>0.0004</td>\n",
       "    </tr>\n",
       "    <tr>\n",
       "      <th>2</th>\n",
       "      <td>1712362</td>\n",
       "      <td>CHEMBL861964</td>\n",
       "      <td>Inhibition of BTK</td>\n",
       "      <td>B</td>\n",
       "      <td>CHEMBL207028</td>\n",
       "      <td>=</td>\n",
       "      <td>nM</td>\n",
       "      <td>15100.0</td>\n",
       "      <td>CHEMBL5251</td>\n",
       "      <td>Homo sapiens</td>\n",
       "      <td>IC50</td>\n",
       "      <td>uM</td>\n",
       "      <td>15.1</td>\n",
       "    </tr>\n",
       "    <tr>\n",
       "      <th>3</th>\n",
       "      <td>1713430</td>\n",
       "      <td>CHEMBL861964</td>\n",
       "      <td>Inhibition of BTK</td>\n",
       "      <td>B</td>\n",
       "      <td>CHEMBL377085</td>\n",
       "      <td>=</td>\n",
       "      <td>nM</td>\n",
       "      <td>4100.0</td>\n",
       "      <td>CHEMBL5251</td>\n",
       "      <td>Homo sapiens</td>\n",
       "      <td>IC50</td>\n",
       "      <td>uM</td>\n",
       "      <td>4.1</td>\n",
       "    </tr>\n",
       "    <tr>\n",
       "      <th>4</th>\n",
       "      <td>1734751</td>\n",
       "      <td>CHEMBL865400</td>\n",
       "      <td>Inhibition of Btk</td>\n",
       "      <td>B</td>\n",
       "      <td>CHEMBL209148</td>\n",
       "      <td>=</td>\n",
       "      <td>nM</td>\n",
       "      <td>4100.0</td>\n",
       "      <td>CHEMBL5251</td>\n",
       "      <td>Homo sapiens</td>\n",
       "      <td>IC50</td>\n",
       "      <td>uM</td>\n",
       "      <td>4.1</td>\n",
       "    </tr>\n",
       "  </tbody>\n",
       "</table>\n",
       "</div>"
      ],
      "text/plain": [
       "   activity_id assay_chembl_id                      assay_description  \\\n",
       "0      1173948    CHEMBL648220  Inhibition of Brutons tyrosine kinase   \n",
       "1      1173948    CHEMBL648220  Inhibition of Brutons tyrosine kinase   \n",
       "2      1712362    CHEMBL861964                      Inhibition of BTK   \n",
       "3      1713430    CHEMBL861964                      Inhibition of BTK   \n",
       "4      1734751    CHEMBL865400                      Inhibition of Btk   \n",
       "\n",
       "  assay_type molecule_chembl_id relation standard_units standard_value  \\\n",
       "0          B       CHEMBL281957        =             nM            0.4   \n",
       "1          B       CHEMBL281957        =             nM            0.4   \n",
       "2          B       CHEMBL207028        =             nM        15100.0   \n",
       "3          B       CHEMBL377085        =             nM         4100.0   \n",
       "4          B       CHEMBL209148        =             nM         4100.0   \n",
       "\n",
       "  target_chembl_id target_organism  type units   value  \n",
       "0       CHEMBL5251    Homo sapiens  IC50    uM  0.0004  \n",
       "1       CHEMBL5251    Homo sapiens  IC50    uM  0.0004  \n",
       "2       CHEMBL5251    Homo sapiens  IC50    uM    15.1  \n",
       "3       CHEMBL5251    Homo sapiens  IC50    uM     4.1  \n",
       "4       CHEMBL5251    Homo sapiens  IC50    uM     4.1  "
      ]
     },
     "execution_count": 15,
     "metadata": {},
     "output_type": "execute_result"
    }
   ],
   "source": [
    "df_activity = pd.DataFrame.from_records(bioactivities)\n",
    "df_activity.head()"
   ]
  },
  {
   "cell_type": "code",
   "execution_count": 16,
   "metadata": {},
   "outputs": [
    {
     "data": {
      "text/plain": [
       "array(['uM', 'nM', \"10'-8M\", '10^-8M'], dtype=object)"
      ]
     },
     "execution_count": 16,
     "metadata": {},
     "output_type": "execute_result"
    }
   ],
   "source": [
    "df_activity[\"units\"].unique()"
   ]
  },
  {
   "cell_type": "code",
   "execution_count": 17,
   "metadata": {},
   "outputs": [
    {
     "data": {
      "text/html": [
       "<div>\n",
       "<style scoped>\n",
       "    .dataframe tbody tr th:only-of-type {\n",
       "        vertical-align: middle;\n",
       "    }\n",
       "\n",
       "    .dataframe tbody tr th {\n",
       "        vertical-align: top;\n",
       "    }\n",
       "\n",
       "    .dataframe thead th {\n",
       "        text-align: right;\n",
       "    }\n",
       "</style>\n",
       "<table border=\"1\" class=\"dataframe\">\n",
       "  <thead>\n",
       "    <tr style=\"text-align: right;\">\n",
       "      <th></th>\n",
       "      <th>activity_id</th>\n",
       "      <th>assay_chembl_id</th>\n",
       "      <th>assay_description</th>\n",
       "      <th>assay_type</th>\n",
       "      <th>molecule_chembl_id</th>\n",
       "      <th>relation</th>\n",
       "      <th>standard_units</th>\n",
       "      <th>standard_value</th>\n",
       "      <th>target_chembl_id</th>\n",
       "      <th>target_organism</th>\n",
       "      <th>type</th>\n",
       "    </tr>\n",
       "  </thead>\n",
       "  <tbody>\n",
       "    <tr>\n",
       "      <th>0</th>\n",
       "      <td>1173948</td>\n",
       "      <td>CHEMBL648220</td>\n",
       "      <td>Inhibition of Brutons tyrosine kinase</td>\n",
       "      <td>B</td>\n",
       "      <td>CHEMBL281957</td>\n",
       "      <td>=</td>\n",
       "      <td>nM</td>\n",
       "      <td>0.4</td>\n",
       "      <td>CHEMBL5251</td>\n",
       "      <td>Homo sapiens</td>\n",
       "      <td>IC50</td>\n",
       "    </tr>\n",
       "    <tr>\n",
       "      <th>1</th>\n",
       "      <td>1173948</td>\n",
       "      <td>CHEMBL648220</td>\n",
       "      <td>Inhibition of Brutons tyrosine kinase</td>\n",
       "      <td>B</td>\n",
       "      <td>CHEMBL281957</td>\n",
       "      <td>=</td>\n",
       "      <td>nM</td>\n",
       "      <td>0.4</td>\n",
       "      <td>CHEMBL5251</td>\n",
       "      <td>Homo sapiens</td>\n",
       "      <td>IC50</td>\n",
       "    </tr>\n",
       "    <tr>\n",
       "      <th>2</th>\n",
       "      <td>1712362</td>\n",
       "      <td>CHEMBL861964</td>\n",
       "      <td>Inhibition of BTK</td>\n",
       "      <td>B</td>\n",
       "      <td>CHEMBL207028</td>\n",
       "      <td>=</td>\n",
       "      <td>nM</td>\n",
       "      <td>15100.0</td>\n",
       "      <td>CHEMBL5251</td>\n",
       "      <td>Homo sapiens</td>\n",
       "      <td>IC50</td>\n",
       "    </tr>\n",
       "    <tr>\n",
       "      <th>3</th>\n",
       "      <td>1713430</td>\n",
       "      <td>CHEMBL861964</td>\n",
       "      <td>Inhibition of BTK</td>\n",
       "      <td>B</td>\n",
       "      <td>CHEMBL377085</td>\n",
       "      <td>=</td>\n",
       "      <td>nM</td>\n",
       "      <td>4100.0</td>\n",
       "      <td>CHEMBL5251</td>\n",
       "      <td>Homo sapiens</td>\n",
       "      <td>IC50</td>\n",
       "    </tr>\n",
       "    <tr>\n",
       "      <th>4</th>\n",
       "      <td>1734751</td>\n",
       "      <td>CHEMBL865400</td>\n",
       "      <td>Inhibition of Btk</td>\n",
       "      <td>B</td>\n",
       "      <td>CHEMBL209148</td>\n",
       "      <td>=</td>\n",
       "      <td>nM</td>\n",
       "      <td>4100.0</td>\n",
       "      <td>CHEMBL5251</td>\n",
       "      <td>Homo sapiens</td>\n",
       "      <td>IC50</td>\n",
       "    </tr>\n",
       "  </tbody>\n",
       "</table>\n",
       "</div>"
      ],
      "text/plain": [
       "   activity_id assay_chembl_id                      assay_description  \\\n",
       "0      1173948    CHEMBL648220  Inhibition of Brutons tyrosine kinase   \n",
       "1      1173948    CHEMBL648220  Inhibition of Brutons tyrosine kinase   \n",
       "2      1712362    CHEMBL861964                      Inhibition of BTK   \n",
       "3      1713430    CHEMBL861964                      Inhibition of BTK   \n",
       "4      1734751    CHEMBL865400                      Inhibition of Btk   \n",
       "\n",
       "  assay_type molecule_chembl_id relation standard_units standard_value  \\\n",
       "0          B       CHEMBL281957        =             nM            0.4   \n",
       "1          B       CHEMBL281957        =             nM            0.4   \n",
       "2          B       CHEMBL207028        =             nM        15100.0   \n",
       "3          B       CHEMBL377085        =             nM         4100.0   \n",
       "4          B       CHEMBL209148        =             nM         4100.0   \n",
       "\n",
       "  target_chembl_id target_organism  type  \n",
       "0       CHEMBL5251    Homo sapiens  IC50  \n",
       "1       CHEMBL5251    Homo sapiens  IC50  \n",
       "2       CHEMBL5251    Homo sapiens  IC50  \n",
       "3       CHEMBL5251    Homo sapiens  IC50  \n",
       "4       CHEMBL5251    Homo sapiens  IC50  "
      ]
     },
     "execution_count": 17,
     "metadata": {},
     "output_type": "execute_result"
    }
   ],
   "source": [
    "df_activity.drop([\"units\", \"value\"], axis=1, inplace=True)\n",
    "df_activity.head()"
   ]
  },
  {
   "cell_type": "code",
   "execution_count": 18,
   "metadata": {},
   "outputs": [
    {
     "data": {
      "text/plain": [
       "activity_id             int64\n",
       "assay_chembl_id        object\n",
       "assay_description      object\n",
       "assay_type             object\n",
       "molecule_chembl_id     object\n",
       "relation               object\n",
       "standard_units         object\n",
       "standard_value        float64\n",
       "target_chembl_id       object\n",
       "target_organism        object\n",
       "type                   object\n",
       "dtype: object"
      ]
     },
     "execution_count": 18,
     "metadata": {},
     "output_type": "execute_result"
    }
   ],
   "source": [
    "df_activity = df_activity.astype({\"standard_value\": \"float64\"})\n",
    "df_activity.dtypes"
   ]
  },
  {
   "cell_type": "code",
   "execution_count": 19,
   "metadata": {},
   "outputs": [
    {
     "name": "stdout",
     "output_type": "stream",
     "text": [
      "DataFrame shape: (3817, 11)\n"
     ]
    }
   ],
   "source": [
    "df_activity.dropna(axis=0, how=\"any\", inplace=True)\n",
    "print(f\"DataFrame shape: {df_activity.shape}\")"
   ]
  },
  {
   "cell_type": "markdown",
   "metadata": {},
   "source": [
    "**3. Keep only entries with \"standard_unit == nM\"** \n",
    "\n",
    "We only want to keep bioactivity entries in `nM`, thus we remove all entries with other units."
   ]
  },
  {
   "cell_type": "code",
   "execution_count": 20,
   "metadata": {},
   "outputs": [
    {
     "name": "stdout",
     "output_type": "stream",
     "text": [
      "Units in downloaded data: ['nM']\n",
      "Number of non-nM entries:    0\n"
     ]
    }
   ],
   "source": [
    "print(f\"Units in downloaded data: {df_activity['standard_units'].unique()}\")\n",
    "print(\n",
    "    f\"Number of non-nM entries:\\\n",
    "    {df_activity[df_activity['standard_units'] != 'nM'].shape[0]}\"\n",
    ")"
   ]
  },
  {
   "cell_type": "code",
   "execution_count": 21,
   "metadata": {},
   "outputs": [
    {
     "name": "stdout",
     "output_type": "stream",
     "text": [
      "Units after filtering: ['nM']\n"
     ]
    }
   ],
   "source": [
    "df_activity = df_activity[df_activity[\"standard_units\"] == \"nM\"]\n",
    "print(f\"Units after filtering: {df_activity['standard_units'].unique()}\")"
   ]
  },
  {
   "cell_type": "code",
   "execution_count": 22,
   "metadata": {},
   "outputs": [
    {
     "name": "stdout",
     "output_type": "stream",
     "text": [
      "DataFrame shape: (3817, 11)\n"
     ]
    }
   ],
   "source": [
    "print(f\"DataFrame shape: {df_activity.shape}\")"
   ]
  },
  {
   "cell_type": "markdown",
   "metadata": {},
   "source": [
    "**4. Delete duplicate molecules**\n",
    "\n",
    "Sometimes the same molecule (`molecule_chembl_id`) has been tested more than once, in this case, we only keep the first one.\n",
    "\n",
    "Note other choices could be to keep the one with the best value or a mean value of all assay results for the respective compound."
   ]
  },
  {
   "cell_type": "code",
   "execution_count": 23,
   "metadata": {},
   "outputs": [
    {
     "name": "stdout",
     "output_type": "stream",
     "text": [
      "DataFrame shape: (2754, 11)\n"
     ]
    }
   ],
   "source": [
    "df_activity.drop_duplicates(\"molecule_chembl_id\", keep=\"first\", inplace=True)\n",
    "print(f\"DataFrame shape: {df_activity.shape}\")"
   ]
  },
  {
   "cell_type": "markdown",
   "metadata": {},
   "source": [
    "**5. Reset \"DataFrame\" index**\n",
    "\n",
    "Since we deleted some rows, but we want to iterate over the index later, we reset the index to be continuous."
   ]
  },
  {
   "cell_type": "code",
   "execution_count": 24,
   "metadata": {},
   "outputs": [
    {
     "data": {
      "text/html": [
       "<div>\n",
       "<style scoped>\n",
       "    .dataframe tbody tr th:only-of-type {\n",
       "        vertical-align: middle;\n",
       "    }\n",
       "\n",
       "    .dataframe tbody tr th {\n",
       "        vertical-align: top;\n",
       "    }\n",
       "\n",
       "    .dataframe thead th {\n",
       "        text-align: right;\n",
       "    }\n",
       "</style>\n",
       "<table border=\"1\" class=\"dataframe\">\n",
       "  <thead>\n",
       "    <tr style=\"text-align: right;\">\n",
       "      <th></th>\n",
       "      <th>activity_id</th>\n",
       "      <th>assay_chembl_id</th>\n",
       "      <th>assay_description</th>\n",
       "      <th>assay_type</th>\n",
       "      <th>molecule_chembl_id</th>\n",
       "      <th>relation</th>\n",
       "      <th>standard_units</th>\n",
       "      <th>standard_value</th>\n",
       "      <th>target_chembl_id</th>\n",
       "      <th>target_organism</th>\n",
       "      <th>type</th>\n",
       "    </tr>\n",
       "  </thead>\n",
       "  <tbody>\n",
       "    <tr>\n",
       "      <th>0</th>\n",
       "      <td>1173948</td>\n",
       "      <td>CHEMBL648220</td>\n",
       "      <td>Inhibition of Brutons tyrosine kinase</td>\n",
       "      <td>B</td>\n",
       "      <td>CHEMBL281957</td>\n",
       "      <td>=</td>\n",
       "      <td>nM</td>\n",
       "      <td>0.4</td>\n",
       "      <td>CHEMBL5251</td>\n",
       "      <td>Homo sapiens</td>\n",
       "      <td>IC50</td>\n",
       "    </tr>\n",
       "    <tr>\n",
       "      <th>1</th>\n",
       "      <td>1712362</td>\n",
       "      <td>CHEMBL861964</td>\n",
       "      <td>Inhibition of BTK</td>\n",
       "      <td>B</td>\n",
       "      <td>CHEMBL207028</td>\n",
       "      <td>=</td>\n",
       "      <td>nM</td>\n",
       "      <td>15100.0</td>\n",
       "      <td>CHEMBL5251</td>\n",
       "      <td>Homo sapiens</td>\n",
       "      <td>IC50</td>\n",
       "    </tr>\n",
       "    <tr>\n",
       "      <th>2</th>\n",
       "      <td>1713430</td>\n",
       "      <td>CHEMBL861964</td>\n",
       "      <td>Inhibition of BTK</td>\n",
       "      <td>B</td>\n",
       "      <td>CHEMBL377085</td>\n",
       "      <td>=</td>\n",
       "      <td>nM</td>\n",
       "      <td>4100.0</td>\n",
       "      <td>CHEMBL5251</td>\n",
       "      <td>Homo sapiens</td>\n",
       "      <td>IC50</td>\n",
       "    </tr>\n",
       "    <tr>\n",
       "      <th>3</th>\n",
       "      <td>1734751</td>\n",
       "      <td>CHEMBL865400</td>\n",
       "      <td>Inhibition of Btk</td>\n",
       "      <td>B</td>\n",
       "      <td>CHEMBL209148</td>\n",
       "      <td>=</td>\n",
       "      <td>nM</td>\n",
       "      <td>4100.0</td>\n",
       "      <td>CHEMBL5251</td>\n",
       "      <td>Homo sapiens</td>\n",
       "      <td>IC50</td>\n",
       "    </tr>\n",
       "    <tr>\n",
       "      <th>4</th>\n",
       "      <td>1748681</td>\n",
       "      <td>CHEMBL870355</td>\n",
       "      <td>Inhibition of Btk</td>\n",
       "      <td>B</td>\n",
       "      <td>CHEMBL386760</td>\n",
       "      <td>=</td>\n",
       "      <td>nM</td>\n",
       "      <td>100.0</td>\n",
       "      <td>CHEMBL5251</td>\n",
       "      <td>Homo sapiens</td>\n",
       "      <td>IC50</td>\n",
       "    </tr>\n",
       "  </tbody>\n",
       "</table>\n",
       "</div>"
      ],
      "text/plain": [
       "   activity_id assay_chembl_id                      assay_description  \\\n",
       "0      1173948    CHEMBL648220  Inhibition of Brutons tyrosine kinase   \n",
       "1      1712362    CHEMBL861964                      Inhibition of BTK   \n",
       "2      1713430    CHEMBL861964                      Inhibition of BTK   \n",
       "3      1734751    CHEMBL865400                      Inhibition of Btk   \n",
       "4      1748681    CHEMBL870355                      Inhibition of Btk   \n",
       "\n",
       "  assay_type molecule_chembl_id relation standard_units  standard_value  \\\n",
       "0          B       CHEMBL281957        =             nM             0.4   \n",
       "1          B       CHEMBL207028        =             nM         15100.0   \n",
       "2          B       CHEMBL377085        =             nM          4100.0   \n",
       "3          B       CHEMBL209148        =             nM          4100.0   \n",
       "4          B       CHEMBL386760        =             nM           100.0   \n",
       "\n",
       "  target_chembl_id target_organism  type  \n",
       "0       CHEMBL5251    Homo sapiens  IC50  \n",
       "1       CHEMBL5251    Homo sapiens  IC50  \n",
       "2       CHEMBL5251    Homo sapiens  IC50  \n",
       "3       CHEMBL5251    Homo sapiens  IC50  \n",
       "4       CHEMBL5251    Homo sapiens  IC50  "
      ]
     },
     "execution_count": 24,
     "metadata": {},
     "output_type": "execute_result"
    }
   ],
   "source": [
    "df_activity.reset_index(drop=True, inplace=True)\n",
    "df_activity.head()"
   ]
  },
  {
   "cell_type": "markdown",
   "metadata": {},
   "source": [
    "**6. Rename columns**"
   ]
  },
  {
   "cell_type": "code",
   "execution_count": 25,
   "metadata": {},
   "outputs": [
    {
     "data": {
      "text/html": [
       "<div>\n",
       "<style scoped>\n",
       "    .dataframe tbody tr th:only-of-type {\n",
       "        vertical-align: middle;\n",
       "    }\n",
       "\n",
       "    .dataframe tbody tr th {\n",
       "        vertical-align: top;\n",
       "    }\n",
       "\n",
       "    .dataframe thead th {\n",
       "        text-align: right;\n",
       "    }\n",
       "</style>\n",
       "<table border=\"1\" class=\"dataframe\">\n",
       "  <thead>\n",
       "    <tr style=\"text-align: right;\">\n",
       "      <th></th>\n",
       "      <th>activity_id</th>\n",
       "      <th>assay_chembl_id</th>\n",
       "      <th>assay_description</th>\n",
       "      <th>assay_type</th>\n",
       "      <th>molecule_chembl_id</th>\n",
       "      <th>relation</th>\n",
       "      <th>units</th>\n",
       "      <th>IC50</th>\n",
       "      <th>target_chembl_id</th>\n",
       "      <th>target_organism</th>\n",
       "      <th>type</th>\n",
       "    </tr>\n",
       "  </thead>\n",
       "  <tbody>\n",
       "    <tr>\n",
       "      <th>0</th>\n",
       "      <td>1173948</td>\n",
       "      <td>CHEMBL648220</td>\n",
       "      <td>Inhibition of Brutons tyrosine kinase</td>\n",
       "      <td>B</td>\n",
       "      <td>CHEMBL281957</td>\n",
       "      <td>=</td>\n",
       "      <td>nM</td>\n",
       "      <td>0.4</td>\n",
       "      <td>CHEMBL5251</td>\n",
       "      <td>Homo sapiens</td>\n",
       "      <td>IC50</td>\n",
       "    </tr>\n",
       "    <tr>\n",
       "      <th>1</th>\n",
       "      <td>1712362</td>\n",
       "      <td>CHEMBL861964</td>\n",
       "      <td>Inhibition of BTK</td>\n",
       "      <td>B</td>\n",
       "      <td>CHEMBL207028</td>\n",
       "      <td>=</td>\n",
       "      <td>nM</td>\n",
       "      <td>15100.0</td>\n",
       "      <td>CHEMBL5251</td>\n",
       "      <td>Homo sapiens</td>\n",
       "      <td>IC50</td>\n",
       "    </tr>\n",
       "    <tr>\n",
       "      <th>2</th>\n",
       "      <td>1713430</td>\n",
       "      <td>CHEMBL861964</td>\n",
       "      <td>Inhibition of BTK</td>\n",
       "      <td>B</td>\n",
       "      <td>CHEMBL377085</td>\n",
       "      <td>=</td>\n",
       "      <td>nM</td>\n",
       "      <td>4100.0</td>\n",
       "      <td>CHEMBL5251</td>\n",
       "      <td>Homo sapiens</td>\n",
       "      <td>IC50</td>\n",
       "    </tr>\n",
       "    <tr>\n",
       "      <th>3</th>\n",
       "      <td>1734751</td>\n",
       "      <td>CHEMBL865400</td>\n",
       "      <td>Inhibition of Btk</td>\n",
       "      <td>B</td>\n",
       "      <td>CHEMBL209148</td>\n",
       "      <td>=</td>\n",
       "      <td>nM</td>\n",
       "      <td>4100.0</td>\n",
       "      <td>CHEMBL5251</td>\n",
       "      <td>Homo sapiens</td>\n",
       "      <td>IC50</td>\n",
       "    </tr>\n",
       "    <tr>\n",
       "      <th>4</th>\n",
       "      <td>1748681</td>\n",
       "      <td>CHEMBL870355</td>\n",
       "      <td>Inhibition of Btk</td>\n",
       "      <td>B</td>\n",
       "      <td>CHEMBL386760</td>\n",
       "      <td>=</td>\n",
       "      <td>nM</td>\n",
       "      <td>100.0</td>\n",
       "      <td>CHEMBL5251</td>\n",
       "      <td>Homo sapiens</td>\n",
       "      <td>IC50</td>\n",
       "    </tr>\n",
       "  </tbody>\n",
       "</table>\n",
       "</div>"
      ],
      "text/plain": [
       "   activity_id assay_chembl_id                      assay_description  \\\n",
       "0      1173948    CHEMBL648220  Inhibition of Brutons tyrosine kinase   \n",
       "1      1712362    CHEMBL861964                      Inhibition of BTK   \n",
       "2      1713430    CHEMBL861964                      Inhibition of BTK   \n",
       "3      1734751    CHEMBL865400                      Inhibition of Btk   \n",
       "4      1748681    CHEMBL870355                      Inhibition of Btk   \n",
       "\n",
       "  assay_type molecule_chembl_id relation units     IC50 target_chembl_id  \\\n",
       "0          B       CHEMBL281957        =    nM      0.4       CHEMBL5251   \n",
       "1          B       CHEMBL207028        =    nM  15100.0       CHEMBL5251   \n",
       "2          B       CHEMBL377085        =    nM   4100.0       CHEMBL5251   \n",
       "3          B       CHEMBL209148        =    nM   4100.0       CHEMBL5251   \n",
       "4          B       CHEMBL386760        =    nM    100.0       CHEMBL5251   \n",
       "\n",
       "  target_organism  type  \n",
       "0    Homo sapiens  IC50  \n",
       "1    Homo sapiens  IC50  \n",
       "2    Homo sapiens  IC50  \n",
       "3    Homo sapiens  IC50  \n",
       "4    Homo sapiens  IC50  "
      ]
     },
     "execution_count": 25,
     "metadata": {},
     "output_type": "execute_result"
    }
   ],
   "source": [
    "df_activity.rename(\n",
    "    columns={\"standard_value\": \"IC50\", \"standard_units\": \"units\"}, inplace=True\n",
    ")\n",
    "df_activity.head()"
   ]
  },
  {
   "cell_type": "code",
   "execution_count": 26,
   "metadata": {},
   "outputs": [
    {
     "name": "stdout",
     "output_type": "stream",
     "text": [
      "DataFrame shape: (2754, 11)\n"
     ]
    }
   ],
   "source": [
    "print(f\"DataFrame shape: {df_activity.shape}\")"
   ]
  },
  {
   "cell_type": "markdown",
   "metadata": {},
   "source": [
    "We now have a set of **2754** molecule ids with respective IC50 values for our target kinase."
   ]
  },
  {
   "cell_type": "code",
   "execution_count": 27,
   "metadata": {},
   "outputs": [],
   "source": [
    "compounds_provider = compounds_api.filter(\n",
    "    molecule_chembl_id__in=list(df_activity[\"molecule_chembl_id\"])\n",
    ").only(\"molecule_chembl_id\", \"molecule_structures\")"
   ]
  },
  {
   "cell_type": "code",
   "execution_count": 28,
   "metadata": {},
   "outputs": [
    {
     "data": {
      "application/vnd.jupyter.widget-view+json": {
       "model_id": "a01f85e5121e4279a3c81c7ae0dff488",
       "version_major": 2,
       "version_minor": 0
      },
      "text/plain": [
       "  0%|          | 0/2754 [00:00<?, ?it/s]"
      ]
     },
     "metadata": {},
     "output_type": "display_data"
    }
   ],
   "source": [
    "compounds = list(tqdm(compounds_provider))"
   ]
  },
  {
   "cell_type": "code",
   "execution_count": 29,
   "metadata": {},
   "outputs": [
    {
     "name": "stdout",
     "output_type": "stream",
     "text": [
      "DataFrame shape: (2754, 2)\n"
     ]
    }
   ],
   "source": [
    "compounds_df = pd.DataFrame.from_records(\n",
    "    compounds,\n",
    ")\n",
    "print(f\"DataFrame shape: {compounds_df.shape}\")"
   ]
  },
  {
   "cell_type": "code",
   "execution_count": 30,
   "metadata": {},
   "outputs": [
    {
     "data": {
      "text/html": [
       "<div>\n",
       "<style scoped>\n",
       "    .dataframe tbody tr th:only-of-type {\n",
       "        vertical-align: middle;\n",
       "    }\n",
       "\n",
       "    .dataframe tbody tr th {\n",
       "        vertical-align: top;\n",
       "    }\n",
       "\n",
       "    .dataframe thead th {\n",
       "        text-align: right;\n",
       "    }\n",
       "</style>\n",
       "<table border=\"1\" class=\"dataframe\">\n",
       "  <thead>\n",
       "    <tr style=\"text-align: right;\">\n",
       "      <th></th>\n",
       "      <th>molecule_chembl_id</th>\n",
       "      <th>molecule_structures</th>\n",
       "    </tr>\n",
       "  </thead>\n",
       "  <tbody>\n",
       "    <tr>\n",
       "      <th>0</th>\n",
       "      <td>CHEMBL58</td>\n",
       "      <td>{'canonical_smiles': 'O=C1c2c(O)ccc(O)c2C(=O)c...</td>\n",
       "    </tr>\n",
       "    <tr>\n",
       "      <th>1</th>\n",
       "      <td>CHEMBL281957</td>\n",
       "      <td>{'canonical_smiles': 'CCN(CC)C/C=C/c1nc(O)c2c(...</td>\n",
       "    </tr>\n",
       "    <tr>\n",
       "      <th>2</th>\n",
       "      <td>CHEMBL31965</td>\n",
       "      <td>{'canonical_smiles': 'C=CC(=O)Nc1cc2c(Nc3ccc(F...</td>\n",
       "    </tr>\n",
       "    <tr>\n",
       "      <th>3</th>\n",
       "      <td>CHEMBL285063</td>\n",
       "      <td>{'canonical_smiles': 'C=CC(=O)Nc1ccc2ncnc(Nc3c...</td>\n",
       "    </tr>\n",
       "    <tr>\n",
       "      <th>4</th>\n",
       "      <td>CHEMBL288441</td>\n",
       "      <td>{'canonical_smiles': 'COc1cc(Nc2c(C#N)cnc3cc(O...</td>\n",
       "    </tr>\n",
       "  </tbody>\n",
       "</table>\n",
       "</div>"
      ],
      "text/plain": [
       "  molecule_chembl_id                                molecule_structures\n",
       "0           CHEMBL58  {'canonical_smiles': 'O=C1c2c(O)ccc(O)c2C(=O)c...\n",
       "1       CHEMBL281957  {'canonical_smiles': 'CCN(CC)C/C=C/c1nc(O)c2c(...\n",
       "2        CHEMBL31965  {'canonical_smiles': 'C=CC(=O)Nc1cc2c(Nc3ccc(F...\n",
       "3       CHEMBL285063  {'canonical_smiles': 'C=CC(=O)Nc1ccc2ncnc(Nc3c...\n",
       "4       CHEMBL288441  {'canonical_smiles': 'COc1cc(Nc2c(C#N)cnc3cc(O..."
      ]
     },
     "execution_count": 30,
     "metadata": {},
     "output_type": "execute_result"
    }
   ],
   "source": [
    "compounds_df.head()"
   ]
  },
  {
   "cell_type": "markdown",
   "metadata": {},
   "source": [
    "#### Preprocess and filter compound data\n",
    "\n",
    "1. Remove entries with missing entries\n",
    "2. Delete duplicate molecules (by molecule_chembl_id)\n",
    "3. Get molecules with canonical SMILES"
   ]
  },
  {
   "cell_type": "markdown",
   "metadata": {},
   "source": [
    "**1. Remove entries with missing molecule structure entry**"
   ]
  },
  {
   "cell_type": "code",
   "execution_count": 31,
   "metadata": {},
   "outputs": [
    {
     "name": "stdout",
     "output_type": "stream",
     "text": [
      "DataFrame shape: (2750, 2)\n"
     ]
    }
   ],
   "source": [
    "compounds_df.dropna(axis=0, how=\"any\", inplace=True)\n",
    "print(f\"DataFrame shape: {compounds_df.shape}\")"
   ]
  },
  {
   "cell_type": "markdown",
   "metadata": {},
   "source": [
    "**2. Delete duplicate molecules**"
   ]
  },
  {
   "cell_type": "code",
   "execution_count": 32,
   "metadata": {},
   "outputs": [
    {
     "name": "stdout",
     "output_type": "stream",
     "text": [
      "DataFrame shape: (2750, 2)\n"
     ]
    }
   ],
   "source": [
    "compounds_df.drop_duplicates(\"molecule_chembl_id\", keep=\"first\", inplace=True)\n",
    "print(f\"DataFrame shape: {compounds_df.shape}\")"
   ]
  },
  {
   "cell_type": "markdown",
   "metadata": {},
   "source": [
    "**3. Get molecules with canonical SMILES**\n",
    "\n",
    "So far, we have multiple different molecular structure representations. We only want to keep the canonical SMILES."
   ]
  },
  {
   "cell_type": "code",
   "execution_count": 33,
   "metadata": {},
   "outputs": [
    {
     "data": {
      "text/plain": [
       "dict_keys(['canonical_smiles', 'molfile', 'standard_inchi', 'standard_inchi_key'])"
      ]
     },
     "execution_count": 33,
     "metadata": {},
     "output_type": "execute_result"
    }
   ],
   "source": [
    "compounds_df.iloc[0].molecule_structures.keys()"
   ]
  },
  {
   "cell_type": "code",
   "execution_count": 34,
   "metadata": {},
   "outputs": [
    {
     "name": "stdout",
     "output_type": "stream",
     "text": [
      "DataFrame shape: (2750, 2)\n"
     ]
    }
   ],
   "source": [
    "canonical_smiles = []\n",
    "\n",
    "for i, compounds in compounds_df.iterrows():\n",
    "    try:\n",
    "        canonical_smiles.append(compounds[\"molecule_structures\"][\"canonical_smiles\"])\n",
    "    except KeyError:\n",
    "        canonical_smiles.append(None)\n",
    "\n",
    "compounds_df[\"smiles\"] = canonical_smiles\n",
    "compounds_df.drop(\"molecule_structures\", axis=1, inplace=True)\n",
    "print(f\"DataFrame shape: {compounds_df.shape}\")"
   ]
  },
  {
   "cell_type": "markdown",
   "metadata": {},
   "source": [
    "Sanity check: Remove all molecules without a canonical SMILES string."
   ]
  },
  {
   "cell_type": "code",
   "execution_count": 35,
   "metadata": {},
   "outputs": [
    {
     "name": "stdout",
     "output_type": "stream",
     "text": [
      "DataFrame shape: (2750, 2)\n"
     ]
    }
   ],
   "source": [
    "compounds_df.dropna(axis=0, how=\"any\", inplace=True)\n",
    "print(f\"DataFrame shape: {compounds_df.shape}\")"
   ]
  },
  {
   "cell_type": "markdown",
   "metadata": {},
   "source": [
    "### Output (bioactivity-compound) data\n",
    "**Summary of compound and bioactivity data**"
   ]
  },
  {
   "cell_type": "code",
   "execution_count": 36,
   "metadata": {},
   "outputs": [
    {
     "name": "stdout",
     "output_type": "stream",
     "text": [
      "Bioactivities filtered: 2754\n"
     ]
    },
    {
     "data": {
      "text/plain": [
       "Index(['activity_id', 'assay_chembl_id', 'assay_description', 'assay_type',\n",
       "       'molecule_chembl_id', 'relation', 'units', 'IC50', 'target_chembl_id',\n",
       "       'target_organism', 'type'],\n",
       "      dtype='object')"
      ]
     },
     "execution_count": 36,
     "metadata": {},
     "output_type": "execute_result"
    }
   ],
   "source": [
    "print(f\"Bioactivities filtered: {df_activity.shape[0]}\")\n",
    "df_activity.columns"
   ]
  },
  {
   "cell_type": "code",
   "execution_count": 37,
   "metadata": {},
   "outputs": [
    {
     "name": "stdout",
     "output_type": "stream",
     "text": [
      "Compounds filtered: 2750\n"
     ]
    },
    {
     "data": {
      "text/plain": [
       "Index(['molecule_chembl_id', 'smiles'], dtype='object')"
      ]
     },
     "execution_count": 37,
     "metadata": {},
     "output_type": "execute_result"
    }
   ],
   "source": [
    "print(f\"Compounds filtered: {compounds_df.shape[0]}\")\n",
    "compounds_df.columns"
   ]
  },
  {
   "cell_type": "markdown",
   "metadata": {},
   "source": [
    "#### Merge both datasets\n",
    "\n",
    "Merge values of interest from `df_activity` and `compounds_df` in an `output_df` based on the compounds' ChEMBL IDs (`molecule_chembl_id`), keeping the following columns:\n",
    "\n",
    "* ChEMBL IDs: `molecule_chembl_id`\n",
    "* SMILES: `smiles`\n",
    "* units: `units`\n",
    "* IC50: `IC50`"
   ]
  },
  {
   "cell_type": "code",
   "execution_count": 38,
   "metadata": {},
   "outputs": [
    {
     "name": "stdout",
     "output_type": "stream",
     "text": [
      "Dataset with 2750 entries.\n"
     ]
    }
   ],
   "source": [
    "# Merge DataFrames\n",
    "output_df = pd.merge(\n",
    "    df_activity[[\"molecule_chembl_id\", \"IC50\", \"units\"]],\n",
    "    compounds_df,\n",
    "    on=\"molecule_chembl_id\",\n",
    ")\n",
    "\n",
    "# Reset row indices\n",
    "output_df.reset_index(drop=True, inplace=True)\n",
    "\n",
    "print(f\"Dataset with {output_df.shape[0]} entries.\")"
   ]
  },
  {
   "cell_type": "code",
   "execution_count": 39,
   "metadata": {},
   "outputs": [
    {
     "data": {
      "text/plain": [
       "molecule_chembl_id     object\n",
       "IC50                  float64\n",
       "units                  object\n",
       "smiles                 object\n",
       "dtype: object"
      ]
     },
     "execution_count": 39,
     "metadata": {},
     "output_type": "execute_result"
    }
   ],
   "source": [
    "output_df.dtypes"
   ]
  },
  {
   "cell_type": "code",
   "execution_count": 40,
   "metadata": {},
   "outputs": [
    {
     "data": {
      "text/html": [
       "<div>\n",
       "<style scoped>\n",
       "    .dataframe tbody tr th:only-of-type {\n",
       "        vertical-align: middle;\n",
       "    }\n",
       "\n",
       "    .dataframe tbody tr th {\n",
       "        vertical-align: top;\n",
       "    }\n",
       "\n",
       "    .dataframe thead th {\n",
       "        text-align: right;\n",
       "    }\n",
       "</style>\n",
       "<table border=\"1\" class=\"dataframe\">\n",
       "  <thead>\n",
       "    <tr style=\"text-align: right;\">\n",
       "      <th></th>\n",
       "      <th>molecule_chembl_id</th>\n",
       "      <th>IC50</th>\n",
       "      <th>units</th>\n",
       "      <th>smiles</th>\n",
       "    </tr>\n",
       "  </thead>\n",
       "  <tbody>\n",
       "    <tr>\n",
       "      <th>0</th>\n",
       "      <td>CHEMBL281957</td>\n",
       "      <td>0.4</td>\n",
       "      <td>nM</td>\n",
       "      <td>CCN(CC)C/C=C/c1nc(O)c2c(ccc3nc(Nc4c(Cl)cccc4Cl...</td>\n",
       "    </tr>\n",
       "    <tr>\n",
       "      <th>1</th>\n",
       "      <td>CHEMBL207028</td>\n",
       "      <td>15100.0</td>\n",
       "      <td>nM</td>\n",
       "      <td>NC(=O)c1sc(-c2ccccc2)cc1N</td>\n",
       "    </tr>\n",
       "    <tr>\n",
       "      <th>2</th>\n",
       "      <td>CHEMBL377085</td>\n",
       "      <td>4100.0</td>\n",
       "      <td>nM</td>\n",
       "      <td>Cc1cc(C)c2c(N)c(C(N)=O)sc2n1</td>\n",
       "    </tr>\n",
       "    <tr>\n",
       "      <th>3</th>\n",
       "      <td>CHEMBL209148</td>\n",
       "      <td>4100.0</td>\n",
       "      <td>nM</td>\n",
       "      <td>COc1cc(C)c(Sc2cnc(NC(=O)c3ccc(CNC(C)C(C)(C)C)c...</td>\n",
       "    </tr>\n",
       "    <tr>\n",
       "      <th>4</th>\n",
       "      <td>CHEMBL386760</td>\n",
       "      <td>100.0</td>\n",
       "      <td>nM</td>\n",
       "      <td>COc1ccc(N(C(=O)Oc2c(C)cccc2C)c2ccnc(Nc3cc(OC)c...</td>\n",
       "    </tr>\n",
       "    <tr>\n",
       "      <th>5</th>\n",
       "      <td>CHEMBL386661</td>\n",
       "      <td>3330.0</td>\n",
       "      <td>nM</td>\n",
       "      <td>CNc1ncc2cc(-c3cc(C(=O)Nc4cc(C(F)(F)F)ccc4OC4CC...</td>\n",
       "    </tr>\n",
       "    <tr>\n",
       "      <th>6</th>\n",
       "      <td>CHEMBL215943</td>\n",
       "      <td>545.0</td>\n",
       "      <td>nM</td>\n",
       "      <td>Cc1ccc(C(=O)Nc2cccc(C(F)(F)F)c2)cc1-c1ccc2nc(N...</td>\n",
       "    </tr>\n",
       "    <tr>\n",
       "      <th>7</th>\n",
       "      <td>CHEMBL373882</td>\n",
       "      <td>25000.0</td>\n",
       "      <td>nM</td>\n",
       "      <td>CNc1ncnc(-c2cccnc2Oc2ccc(F)c(C(=O)Nc3cc(C(F)(F...</td>\n",
       "    </tr>\n",
       "    <tr>\n",
       "      <th>8</th>\n",
       "      <td>CHEMBL246356</td>\n",
       "      <td>25000.0</td>\n",
       "      <td>nM</td>\n",
       "      <td>CNc1ncnc(-c2cccnc2Oc2cc(NC(=O)c3cccc(OC(F)(F)C...</td>\n",
       "    </tr>\n",
       "    <tr>\n",
       "      <th>9</th>\n",
       "      <td>CHEMBL249097</td>\n",
       "      <td>9.0</td>\n",
       "      <td>nM</td>\n",
       "      <td>Cc1ccc(O)cc1Nc1ccnc(Nc2cccc(C(N)=O)c2)n1</td>\n",
       "    </tr>\n",
       "  </tbody>\n",
       "</table>\n",
       "</div>"
      ],
      "text/plain": [
       "  molecule_chembl_id     IC50 units  \\\n",
       "0       CHEMBL281957      0.4    nM   \n",
       "1       CHEMBL207028  15100.0    nM   \n",
       "2       CHEMBL377085   4100.0    nM   \n",
       "3       CHEMBL209148   4100.0    nM   \n",
       "4       CHEMBL386760    100.0    nM   \n",
       "5       CHEMBL386661   3330.0    nM   \n",
       "6       CHEMBL215943    545.0    nM   \n",
       "7       CHEMBL373882  25000.0    nM   \n",
       "8       CHEMBL246356  25000.0    nM   \n",
       "9       CHEMBL249097      9.0    nM   \n",
       "\n",
       "                                              smiles  \n",
       "0  CCN(CC)C/C=C/c1nc(O)c2c(ccc3nc(Nc4c(Cl)cccc4Cl...  \n",
       "1                          NC(=O)c1sc(-c2ccccc2)cc1N  \n",
       "2                       Cc1cc(C)c2c(N)c(C(N)=O)sc2n1  \n",
       "3  COc1cc(C)c(Sc2cnc(NC(=O)c3ccc(CNC(C)C(C)(C)C)c...  \n",
       "4  COc1ccc(N(C(=O)Oc2c(C)cccc2C)c2ccnc(Nc3cc(OC)c...  \n",
       "5  CNc1ncc2cc(-c3cc(C(=O)Nc4cc(C(F)(F)F)ccc4OC4CC...  \n",
       "6  Cc1ccc(C(=O)Nc2cccc(C(F)(F)F)c2)cc1-c1ccc2nc(N...  \n",
       "7  CNc1ncnc(-c2cccnc2Oc2ccc(F)c(C(=O)Nc3cc(C(F)(F...  \n",
       "8  CNc1ncnc(-c2cccnc2Oc2cc(NC(=O)c3cccc(OC(F)(F)C...  \n",
       "9           Cc1ccc(O)cc1Nc1ccnc(Nc2cccc(C(N)=O)c2)n1  "
      ]
     },
     "execution_count": 40,
     "metadata": {},
     "output_type": "execute_result"
    }
   ],
   "source": [
    "output_df.head(10)"
   ]
  },
  {
   "cell_type": "markdown",
   "metadata": {},
   "source": [
    "#### Add pIC50 values"
   ]
  },
  {
   "cell_type": "markdown",
   "metadata": {},
   "source": [
    "As you can see the low IC50 values are difficult to read (values are distributed over multiple scales), which is why we convert the IC50 values to pIC50."
   ]
  },
  {
   "cell_type": "code",
   "execution_count": 41,
   "metadata": {},
   "outputs": [],
   "source": [
    "def convert_ic50_to_pic50(IC50_value):\n",
    "    pIC50_value = 9 - math.log10(IC50_value)\n",
    "    return pIC50_value"
   ]
  },
  {
   "cell_type": "code",
   "execution_count": 42,
   "metadata": {},
   "outputs": [],
   "source": [
    "# Apply conversion to each row of the compounds DataFrame\n",
    "output_df[\"pIC50\"] = output_df.apply(lambda x: convert_ic50_to_pic50(x.IC50), axis=1)"
   ]
  },
  {
   "cell_type": "code",
   "execution_count": 43,
   "metadata": {},
   "outputs": [
    {
     "data": {
      "text/html": [
       "<div>\n",
       "<style scoped>\n",
       "    .dataframe tbody tr th:only-of-type {\n",
       "        vertical-align: middle;\n",
       "    }\n",
       "\n",
       "    .dataframe tbody tr th {\n",
       "        vertical-align: top;\n",
       "    }\n",
       "\n",
       "    .dataframe thead th {\n",
       "        text-align: right;\n",
       "    }\n",
       "</style>\n",
       "<table border=\"1\" class=\"dataframe\">\n",
       "  <thead>\n",
       "    <tr style=\"text-align: right;\">\n",
       "      <th></th>\n",
       "      <th>molecule_chembl_id</th>\n",
       "      <th>IC50</th>\n",
       "      <th>units</th>\n",
       "      <th>smiles</th>\n",
       "      <th>pIC50</th>\n",
       "    </tr>\n",
       "  </thead>\n",
       "  <tbody>\n",
       "    <tr>\n",
       "      <th>0</th>\n",
       "      <td>CHEMBL281957</td>\n",
       "      <td>0.4</td>\n",
       "      <td>nM</td>\n",
       "      <td>CCN(CC)C/C=C/c1nc(O)c2c(ccc3nc(Nc4c(Cl)cccc4Cl...</td>\n",
       "      <td>9.397940</td>\n",
       "    </tr>\n",
       "    <tr>\n",
       "      <th>1</th>\n",
       "      <td>CHEMBL207028</td>\n",
       "      <td>15100.0</td>\n",
       "      <td>nM</td>\n",
       "      <td>NC(=O)c1sc(-c2ccccc2)cc1N</td>\n",
       "      <td>4.821023</td>\n",
       "    </tr>\n",
       "    <tr>\n",
       "      <th>2</th>\n",
       "      <td>CHEMBL377085</td>\n",
       "      <td>4100.0</td>\n",
       "      <td>nM</td>\n",
       "      <td>Cc1cc(C)c2c(N)c(C(N)=O)sc2n1</td>\n",
       "      <td>5.387216</td>\n",
       "    </tr>\n",
       "    <tr>\n",
       "      <th>3</th>\n",
       "      <td>CHEMBL209148</td>\n",
       "      <td>4100.0</td>\n",
       "      <td>nM</td>\n",
       "      <td>COc1cc(C)c(Sc2cnc(NC(=O)c3ccc(CNC(C)C(C)(C)C)c...</td>\n",
       "      <td>5.387216</td>\n",
       "    </tr>\n",
       "    <tr>\n",
       "      <th>4</th>\n",
       "      <td>CHEMBL386760</td>\n",
       "      <td>100.0</td>\n",
       "      <td>nM</td>\n",
       "      <td>COc1ccc(N(C(=O)Oc2c(C)cccc2C)c2ccnc(Nc3cc(OC)c...</td>\n",
       "      <td>7.000000</td>\n",
       "    </tr>\n",
       "  </tbody>\n",
       "</table>\n",
       "</div>"
      ],
      "text/plain": [
       "  molecule_chembl_id     IC50 units  \\\n",
       "0       CHEMBL281957      0.4    nM   \n",
       "1       CHEMBL207028  15100.0    nM   \n",
       "2       CHEMBL377085   4100.0    nM   \n",
       "3       CHEMBL209148   4100.0    nM   \n",
       "4       CHEMBL386760    100.0    nM   \n",
       "\n",
       "                                              smiles     pIC50  \n",
       "0  CCN(CC)C/C=C/c1nc(O)c2c(ccc3nc(Nc4c(Cl)cccc4Cl...  9.397940  \n",
       "1                          NC(=O)c1sc(-c2ccccc2)cc1N  4.821023  \n",
       "2                       Cc1cc(C)c2c(N)c(C(N)=O)sc2n1  5.387216  \n",
       "3  COc1cc(C)c(Sc2cnc(NC(=O)c3ccc(CNC(C)C(C)(C)C)c...  5.387216  \n",
       "4  COc1ccc(N(C(=O)Oc2c(C)cccc2C)c2ccnc(Nc3cc(OC)c...  7.000000  "
      ]
     },
     "execution_count": 43,
     "metadata": {},
     "output_type": "execute_result"
    }
   ],
   "source": [
    "output_df.head()"
   ]
  },
  {
   "cell_type": "markdown",
   "metadata": {},
   "source": [
    "#### Draw compound data\n",
    "\n",
    "Let's have a look at our collected data set.\n",
    "\n",
    "First, we plot the pIC50 value distribution"
   ]
  },
  {
   "cell_type": "code",
   "execution_count": 44,
   "metadata": {
    "tags": [
     "nbsphinx-thumbnail"
    ]
   },
   "outputs": [
    {
     "data": {
      "text/plain": [
       "array([[<AxesSubplot:title={'center':'pIC50'}>]], dtype=object)"
      ]
     },
     "execution_count": 44,
     "metadata": {},
     "output_type": "execute_result"
    },
    {
     "data": {
      "image/png": "[encoded data removed]",
      "text/plain": [
       "<Figure size 432x288 with 1 Axes>"
      ]
     },
     "metadata": {
      "needs_background": "light"
     },
     "output_type": "display_data"
    }
   ],
   "source": [
    "output_df.hist(column=\"pIC50\")"
   ]
  },
  {
   "cell_type": "markdown",
   "metadata": {},
   "source": [
    "In the next steps, we add a column for RDKit molecule objects to our `DataFrame` and look at the structures of the molecules with the highest pIC50 values. "
   ]
  },
  {
   "cell_type": "code",
   "execution_count": 45,
   "metadata": {},
   "outputs": [],
   "source": [
    "# Add molecule column\n",
    "PandasTools.AddMoleculeColumnToFrame(output_df, smilesCol=\"smiles\")"
   ]
  },
  {
   "cell_type": "code",
   "execution_count": 46,
   "metadata": {},
   "outputs": [],
   "source": [
    "# Sort molecules by pIC50\n",
    "output_df.sort_values(by=\"pIC50\", ascending=False, inplace=True)\n",
    "\n",
    "# Reset index\n",
    "output_df.reset_index(drop=True, inplace=True)"
   ]
  },
  {
   "cell_type": "markdown",
   "metadata": {},
   "source": [
    "Show the three most active molecules, i.e. molecules with the highest pIC50 values."
   ]
  },
  {
   "cell_type": "code",
   "execution_count": 47,
   "metadata": {},
   "outputs": [
    {
     "data": {
      "text/html": [
       "<div>\n",
       "<style scoped>\n",
       "    .dataframe tbody tr th:only-of-type {\n",
       "        vertical-align: middle;\n",
       "    }\n",
       "\n",
       "    .dataframe tbody tr th {\n",
       "        vertical-align: top;\n",
       "    }\n",
       "\n",
       "    .dataframe thead th {\n",
       "        text-align: right;\n",
       "    }\n",
       "</style>\n",
       "<table border=\"1\" class=\"dataframe\">\n",
       "  <thead>\n",
       "    <tr style=\"text-align: right;\">\n",
       "      <th></th>\n",
       "      <th>molecule_chembl_id</th>\n",
       "      <th>IC50</th>\n",
       "      <th>units</th>\n",
       "      <th>pIC50</th>\n",
       "      <th>ROMol</th>\n",
       "    </tr>\n",
       "  </thead>\n",
       "  <tbody>\n",
       "    <tr>\n",
       "      <th>0</th>\n",
       "      <td>CHEMBL4113670</td>\n",
       "      <td>0.058</td>\n",
       "      <td>nM</td>\n",
       "      <td>10.236572</td>\n",
       "      <td><img data-content=\"rdkit/molecule\" src=\"data:image/png;base64,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\" alt=\"Mol\"/></td>\n",
       "    </tr>\n",
       "    <tr>\n",
       "      <th>1</th>\n",
       "      <td>CHEMBL4648442</td>\n",
       "      <td>0.070</td>\n",
       "      <td>nM</td>\n",
       "      <td>10.154902</td>\n",
       "      <td><img data-content=\"rdkit/molecule\" src=\"data:image/png;base64,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\" alt=\"Mol\"/></td>\n",
       "    </tr>\n",
       "    <tr>\n",
       "      <th>2</th>\n",
       "      <td>CHEMBL4113445</td>\n",
       "      <td>0.075</td>\n",
       "      <td>nM</td>\n",
       "      <td>10.124939</td>\n",
       "      <td><img data-content=\"rdkit/molecule\" src=\"data:image/png;base64,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\" alt=\"Mol\"/></td>\n",
       "    </tr>\n",
       "  </tbody>\n",
       "</table>\n",
       "</div>"
      ],
      "text/plain": [
       "  molecule_chembl_id   IC50 units      pIC50  \\\n",
       "0      CHEMBL4113670  0.058    nM  10.236572   \n",
       "1      CHEMBL4648442  0.070    nM  10.154902   \n",
       "2      CHEMBL4113445  0.075    nM  10.124939   \n",
       "\n",
       "                                               ROMol  \n",
       "0  <img data-content=\"rdkit/molecule\" src=\"data:i...  \n",
       "1  <img data-content=\"rdkit/molecule\" src=\"data:i...  \n",
       "2  <img data-content=\"rdkit/molecule\" src=\"data:i...  "
      ]
     },
     "execution_count": 47,
     "metadata": {},
     "output_type": "execute_result"
    }
   ],
   "source": [
    "output_df.drop(\"smiles\", axis=1).head(3)"
   ]
  },
  {
   "cell_type": "code",
   "execution_count": 48,
   "metadata": {},
   "outputs": [
    {
     "name": "stdout",
     "output_type": "stream",
     "text": [
      "DataFrame shape: (2750, 5)\n"
     ]
    }
   ],
   "source": [
    "# Prepare saving the dataset: Drop the ROMol column\n",
    "output_df = output_df.drop(\"ROMol\", axis=1)\n",
    "print(f\"DataFrame shape: {output_df.shape}\")"
   ]
  },
  {
   "cell_type": "code",
   "execution_count": 49,
   "metadata": {},
   "outputs": [
    {
     "name": "stdout",
     "output_type": "stream",
     "text": [
      "DataFrame shape: (2750, 5)\n"
     ]
    }
   ],
   "source": [
    "print(f\"DataFrame shape: {output_df.shape}\")\n",
    "# NBVAL_CHECK_OUTPUT"
   ]
  },
  {
   "cell_type": "code",
   "execution_count": 50,
   "metadata": {
    "scrolled": true
   },
   "outputs": [
    {
     "data": {
      "text/html": [
       "<div>\n",
       "<style scoped>\n",
       "    .dataframe tbody tr th:only-of-type {\n",
       "        vertical-align: middle;\n",
       "    }\n",
       "\n",
       "    .dataframe tbody tr th {\n",
       "        vertical-align: top;\n",
       "    }\n",
       "\n",
       "    .dataframe thead th {\n",
       "        text-align: right;\n",
       "    }\n",
       "</style>\n",
       "<table border=\"1\" class=\"dataframe\">\n",
       "  <thead>\n",
       "    <tr style=\"text-align: right;\">\n",
       "      <th></th>\n",
       "      <th>molecule_chembl_id</th>\n",
       "      <th>IC50</th>\n",
       "      <th>units</th>\n",
       "      <th>smiles</th>\n",
       "      <th>pIC50</th>\n",
       "    </tr>\n",
       "  </thead>\n",
       "  <tbody>\n",
       "    <tr>\n",
       "      <th>0</th>\n",
       "      <td>CHEMBL4113670</td>\n",
       "      <td>0.058</td>\n",
       "      <td>nM</td>\n",
       "      <td>C[C@@H]1CC(=O)N2C[C@H](c3nc(-c4ccc(C(=O)Nc5cc(...</td>\n",
       "      <td>10.236572</td>\n",
       "    </tr>\n",
       "    <tr>\n",
       "      <th>1</th>\n",
       "      <td>CHEMBL4648442</td>\n",
       "      <td>0.070</td>\n",
       "      <td>nM</td>\n",
       "      <td>C#CC(=O)N[C@H]1CCCN(c2c(F)cc(C(N)=O)c3[nH]c(C)...</td>\n",
       "      <td>10.154902</td>\n",
       "    </tr>\n",
       "    <tr>\n",
       "      <th>2</th>\n",
       "      <td>CHEMBL4113445</td>\n",
       "      <td>0.075</td>\n",
       "      <td>nM</td>\n",
       "      <td>Nc1nccn2c([C@@H]3CC[C@H]4CCOC(=O)N4C3)nc(-c3cc...</td>\n",
       "      <td>10.124939</td>\n",
       "    </tr>\n",
       "    <tr>\n",
       "      <th>3</th>\n",
       "      <td>CHEMBL4240879</td>\n",
       "      <td>0.079</td>\n",
       "      <td>nM</td>\n",
       "      <td>C=CS(=O)(=O)Nc1cccc(-c2ccc(C(N)=O)c3[nH]c4c(c2...</td>\n",
       "      <td>10.102373</td>\n",
       "    </tr>\n",
       "    <tr>\n",
       "      <th>4</th>\n",
       "      <td>CHEMBL4109744</td>\n",
       "      <td>0.081</td>\n",
       "      <td>nM</td>\n",
       "      <td>Nc1nccn2c([C@@H]3CC[C@H]4C[C@H](O)C(=O)N4C3)nc...</td>\n",
       "      <td>10.091515</td>\n",
       "    </tr>\n",
       "  </tbody>\n",
       "</table>\n",
       "</div>"
      ],
      "text/plain": [
       "  molecule_chembl_id   IC50 units  \\\n",
       "0      CHEMBL4113670  0.058    nM   \n",
       "1      CHEMBL4648442  0.070    nM   \n",
       "2      CHEMBL4113445  0.075    nM   \n",
       "3      CHEMBL4240879  0.079    nM   \n",
       "4      CHEMBL4109744  0.081    nM   \n",
       "\n",
       "                                              smiles      pIC50  \n",
       "0  C[C@@H]1CC(=O)N2C[C@H](c3nc(-c4ccc(C(=O)Nc5cc(...  10.236572  \n",
       "1  C#CC(=O)N[C@H]1CCCN(c2c(F)cc(C(N)=O)c3[nH]c(C)...  10.154902  \n",
       "2  Nc1nccn2c([C@@H]3CC[C@H]4CCOC(=O)N4C3)nc(-c3cc...  10.124939  \n",
       "3  C=CS(=O)(=O)Nc1cccc(-c2ccc(C(N)=O)c3[nH]c4c(c2...  10.102373  \n",
       "4  Nc1nccn2c([C@@H]3CC[C@H]4C[C@H](O)C(=O)N4C3)nc...  10.091515  "
      ]
     },
     "execution_count": 50,
     "metadata": {},
     "output_type": "execute_result"
    }
   ],
   "source": [
    "output_df.to_csv(DATA / \"BTK_compounds.csv\")\n",
    "output_df.head()"
   ]
  },
  {
   "cell_type": "code",
   "execution_count": 51,
   "metadata": {},
   "outputs": [
    {
     "name": "stdout",
     "output_type": "stream",
     "text": [
      "DataFrame shape: (2750, 5)\n"
     ]
    }
   ],
   "source": [
    "print(f\"DataFrame shape: {output_df.shape}\")\n",
    "# NBVAL_CHECK_OUTPUT"
   ]
  },
  {
   "cell_type": "markdown",
   "metadata": {},
   "source": [
    "## Quiz"
   ]
  },
  {
   "cell_type": "code",
   "execution_count": 52,
   "metadata": {},
   "outputs": [],
   "source": [
    "end = time.time()\n",
    "end\n",
    "diff = end - start"
   ]
  },
  {
   "cell_type": "code",
   "execution_count": 53,
   "metadata": {},
   "outputs": [
    {
     "name": "stdout",
     "output_type": "stream",
     "text": [
      "Total time in seconds: 2.3695907592773438\n"
     ]
    }
   ],
   "source": [
    "print(f\"Total time in seconds: {diff}\")"
   ]
  },
  {
   "cell_type": "code",
   "execution_count": null,
   "metadata": {},
   "outputs": [],
   "source": []
  },
  {
   "cell_type": "markdown",
   "metadata": {},
   "source": [
    "# with _new_client.molecule_\n",
    "\n",
    "### note: It did not work, but kept for reference."
   ]
  },
  {
   "cell_type": "code",
   "execution_count": 54,
   "metadata": {},
   "outputs": [
    {
     "data": {
      "text/plain": [
       "[]"
      ]
     },
     "execution_count": 54,
     "metadata": {},
     "output_type": "execute_result"
    }
   ],
   "source": [
    "from chembl_webresource_client.new_client import new_client\n",
    "\n",
    "molecule = new_client.molecule\n",
    "mols = molecule.filter(molecule_chembl_id__in=['CHEMBL5251']).only(['molecule_chembl_id', 'pref_name'])\n",
    "mols"
   ]
  },
  {
   "cell_type": "markdown",
   "metadata": {},
   "source": [
    "# with _new_client.activity_\n",
    "\n",
    "## Note: This is same as [Getting-activity](#Getting-activity)."
   ]
  },
  {
   "cell_type": "code",
   "execution_count": 55,
   "metadata": {},
   "outputs": [
    {
     "data": {
      "text/plain": [
       "3816"
      ]
     },
     "execution_count": 55,
     "metadata": {},
     "output_type": "execute_result"
    }
   ],
   "source": [
    "from chembl_webresource_client.new_client import new_client\n",
    "\n",
    "activity = new_client.activity\n",
    "res_ic50 = activity.filter(target_chembl_id='CHEMBL5251', type=\"IC50\", relation=\"=\", assay_type=\"B\"\n",
    ").only(\"activity_id\", \"assay_chembl_id\", \"assay_description\",\n",
    "    \"assay_type\",\n",
    "    \"molecule_chembl_id\",\n",
    "    \"type\",\n",
    "    \"standard_units\",\n",
    "    \"relation\",\n",
    "    \"standard_value\",\n",
    "    \"target_chembl_id\",\n",
    "    \"target_organism\",\n",
    ")\n",
    "\n",
    "len(res_ic50)"
   ]
  },
  {
   "cell_type": "code",
   "execution_count": 56,
   "metadata": {},
   "outputs": [
    {
     "data": {
      "text/html": [
       "<div>\n",
       "<style scoped>\n",
       "    .dataframe tbody tr th:only-of-type {\n",
       "        vertical-align: middle;\n",
       "    }\n",
       "\n",
       "    .dataframe tbody tr th {\n",
       "        vertical-align: top;\n",
       "    }\n",
       "\n",
       "    .dataframe thead th {\n",
       "        text-align: right;\n",
       "    }\n",
       "</style>\n",
       "<table border=\"1\" class=\"dataframe\">\n",
       "  <thead>\n",
       "    <tr style=\"text-align: right;\">\n",
       "      <th></th>\n",
       "      <th>activity_id</th>\n",
       "      <th>assay_chembl_id</th>\n",
       "      <th>assay_description</th>\n",
       "      <th>assay_type</th>\n",
       "      <th>molecule_chembl_id</th>\n",
       "      <th>relation</th>\n",
       "      <th>standard_units</th>\n",
       "      <th>standard_value</th>\n",
       "      <th>target_chembl_id</th>\n",
       "      <th>target_organism</th>\n",
       "      <th>type</th>\n",
       "      <th>units</th>\n",
       "      <th>value</th>\n",
       "    </tr>\n",
       "  </thead>\n",
       "  <tbody>\n",
       "    <tr>\n",
       "      <th>0</th>\n",
       "      <td>1173948</td>\n",
       "      <td>CHEMBL648220</td>\n",
       "      <td>Inhibition of Brutons tyrosine kinase</td>\n",
       "      <td>B</td>\n",
       "      <td>CHEMBL281957</td>\n",
       "      <td>=</td>\n",
       "      <td>nM</td>\n",
       "      <td>0.4</td>\n",
       "      <td>CHEMBL5251</td>\n",
       "      <td>Homo sapiens</td>\n",
       "      <td>IC50</td>\n",
       "      <td>uM</td>\n",
       "      <td>0.0004</td>\n",
       "    </tr>\n",
       "    <tr>\n",
       "      <th>1</th>\n",
       "      <td>1173948</td>\n",
       "      <td>CHEMBL648220</td>\n",
       "      <td>Inhibition of Brutons tyrosine kinase</td>\n",
       "      <td>B</td>\n",
       "      <td>CHEMBL281957</td>\n",
       "      <td>=</td>\n",
       "      <td>nM</td>\n",
       "      <td>0.4</td>\n",
       "      <td>CHEMBL5251</td>\n",
       "      <td>Homo sapiens</td>\n",
       "      <td>IC50</td>\n",
       "      <td>uM</td>\n",
       "      <td>0.0004</td>\n",
       "    </tr>\n",
       "    <tr>\n",
       "      <th>2</th>\n",
       "      <td>1712362</td>\n",
       "      <td>CHEMBL861964</td>\n",
       "      <td>Inhibition of BTK</td>\n",
       "      <td>B</td>\n",
       "      <td>CHEMBL207028</td>\n",
       "      <td>=</td>\n",
       "      <td>nM</td>\n",
       "      <td>15100.0</td>\n",
       "      <td>CHEMBL5251</td>\n",
       "      <td>Homo sapiens</td>\n",
       "      <td>IC50</td>\n",
       "      <td>uM</td>\n",
       "      <td>15.1</td>\n",
       "    </tr>\n",
       "    <tr>\n",
       "      <th>3</th>\n",
       "      <td>1713430</td>\n",
       "      <td>CHEMBL861964</td>\n",
       "      <td>Inhibition of BTK</td>\n",
       "      <td>B</td>\n",
       "      <td>CHEMBL377085</td>\n",
       "      <td>=</td>\n",
       "      <td>nM</td>\n",
       "      <td>4100.0</td>\n",
       "      <td>CHEMBL5251</td>\n",
       "      <td>Homo sapiens</td>\n",
       "      <td>IC50</td>\n",
       "      <td>uM</td>\n",
       "      <td>4.1</td>\n",
       "    </tr>\n",
       "    <tr>\n",
       "      <th>4</th>\n",
       "      <td>1734751</td>\n",
       "      <td>CHEMBL865400</td>\n",
       "      <td>Inhibition of Btk</td>\n",
       "      <td>B</td>\n",
       "      <td>CHEMBL209148</td>\n",
       "      <td>=</td>\n",
       "      <td>nM</td>\n",
       "      <td>4100.0</td>\n",
       "      <td>CHEMBL5251</td>\n",
       "      <td>Homo sapiens</td>\n",
       "      <td>IC50</td>\n",
       "      <td>uM</td>\n",
       "      <td>4.1</td>\n",
       "    </tr>\n",
       "  </tbody>\n",
       "</table>\n",
       "</div>"
      ],
      "text/plain": [
       "   activity_id assay_chembl_id                      assay_description  \\\n",
       "0      1173948    CHEMBL648220  Inhibition of Brutons tyrosine kinase   \n",
       "1      1173948    CHEMBL648220  Inhibition of Brutons tyrosine kinase   \n",
       "2      1712362    CHEMBL861964                      Inhibition of BTK   \n",
       "3      1713430    CHEMBL861964                      Inhibition of BTK   \n",
       "4      1734751    CHEMBL865400                      Inhibition of Btk   \n",
       "\n",
       "  assay_type molecule_chembl_id relation standard_units standard_value  \\\n",
       "0          B       CHEMBL281957        =             nM            0.4   \n",
       "1          B       CHEMBL281957        =             nM            0.4   \n",
       "2          B       CHEMBL207028        =             nM        15100.0   \n",
       "3          B       CHEMBL377085        =             nM         4100.0   \n",
       "4          B       CHEMBL209148        =             nM         4100.0   \n",
       "\n",
       "  target_chembl_id target_organism  type units   value  \n",
       "0       CHEMBL5251    Homo sapiens  IC50    uM  0.0004  \n",
       "1       CHEMBL5251    Homo sapiens  IC50    uM  0.0004  \n",
       "2       CHEMBL5251    Homo sapiens  IC50    uM    15.1  \n",
       "3       CHEMBL5251    Homo sapiens  IC50    uM     4.1  \n",
       "4       CHEMBL5251    Homo sapiens  IC50    uM     4.1  "
      ]
     },
     "execution_count": 56,
     "metadata": {},
     "output_type": "execute_result"
    }
   ],
   "source": [
    "df_res = pd.DataFrame.from_records(res_ic50)\n",
    "df_res.head()"
   ]
  },
  {
   "cell_type": "markdown",
   "metadata": {},
   "source": [
    "# Search for ADMET-related inhibitor assays (type A)\n",
    "\n",
    "## with _new_client.assay_"
   ]
  },
  {
   "cell_type": "code",
   "execution_count": 57,
   "metadata": {},
   "outputs": [
    {
     "data": {
      "text/plain": [
       "[{'assay_category': None, 'assay_cell_type': None, 'assay_chembl_id': 'CHEMBL4407571', 'assay_classifications': [], 'assay_organism': 'Homo sapiens', 'assay_parameters': [], 'assay_strain': None, 'assay_subcellular_fraction': None, 'assay_tax_id': 9606, 'assay_test_type': None, 'assay_tissue': None, 'assay_type': 'A', 'assay_type_description': 'ADME', 'bao_format': 'BAO_0000019', 'bao_label': 'assay format', 'cell_chembl_id': None, 'confidence_description': 'Direct single protein target assigned', 'confidence_score': 9, 'description': \"Inhibition of full-length recombinant human His-tagged BTK cytoplasmic domain expressed in baculovirus expression system at 25 uM using FRET-labeled tyr 01 peptide as substrate measured after 1 hr by Z'-lyte assay relative to control\", 'document_chembl_id': 'CHEMBL4406811', 'relationship_description': 'Direct protein target assigned', 'relationship_type': 'D', 'src_assay_id': None, 'src_id': 1, 'target_chembl_id': 'CHEMBL5251', 'tissue_chembl_id': None, 'variant_sequence': None}, {'assay_category': None, 'assay_cell_type': None, 'assay_chembl_id': 'CHEMBL4685326', 'assay_classifications': [], 'assay_organism': 'Homo sapiens', 'assay_parameters': [], 'assay_strain': None, 'assay_subcellular_fraction': None, 'assay_tax_id': 9606, 'assay_test_type': None, 'assay_tissue': None, 'assay_type': 'A', 'assay_type_description': 'ADME', 'bao_format': 'BAO_0000019', 'bao_label': 'assay format', 'cell_chembl_id': None, 'confidence_description': 'Direct single protein target assigned', 'confidence_score': 9, 'description': \"Inhibition of recombinant human His-tagged full length BTK expressed in baculovirus expression system at 100 nM using Tyr01 peptide as substrate incubated for 1 hr by Z'lyte assay relative to control\", 'document_chembl_id': 'CHEMBL4680201', 'relationship_description': 'Direct protein target assigned', 'relationship_type': 'D', 'src_assay_id': None, 'src_id': 1, 'target_chembl_id': 'CHEMBL5251', 'tissue_chembl_id': None, 'variant_sequence': None}, {'assay_category': None, 'assay_cell_type': None, 'assay_chembl_id': 'CHEMBL4687850', 'assay_classifications': [], 'assay_organism': 'Homo sapiens', 'assay_parameters': [], 'assay_strain': None, 'assay_subcellular_fraction': None, 'assay_tax_id': 9606, 'assay_test_type': None, 'assay_tissue': None, 'assay_type': 'A', 'assay_type_description': 'ADME', 'bao_format': 'BAO_0000357', 'bao_label': 'single protein format', 'cell_chembl_id': None, 'confidence_description': 'Direct single protein target assigned', 'confidence_score': 9, 'description': 'Inhibition of human BTK assessed as residual activity at 10 uM relative to control', 'document_chembl_id': 'CHEMBL4680285', 'relationship_description': 'Direct protein target assigned', 'relationship_type': 'D', 'src_assay_id': None, 'src_id': 1, 'target_chembl_id': 'CHEMBL5251', 'tissue_chembl_id': None, 'variant_sequence': None}]"
      ]
     },
     "execution_count": 57,
     "metadata": {},
     "output_type": "execute_result"
    }
   ],
   "source": [
    "from chembl_webresource_client.new_client import new_client\n",
    "assay = new_client.assay\n",
    "res_admet = assay.filter(target_chembl_id='CHEMBL5251',description__icontains='inhibit', assay_type='A')\n",
    "res_admet"
   ]
  },
  {
   "cell_type": "code",
   "execution_count": 58,
   "metadata": {},
   "outputs": [
    {
     "data": {
      "text/html": [
       "<div>\n",
       "<style scoped>\n",
       "    .dataframe tbody tr th:only-of-type {\n",
       "        vertical-align: middle;\n",
       "    }\n",
       "\n",
       "    .dataframe tbody tr th {\n",
       "        vertical-align: top;\n",
       "    }\n",
       "\n",
       "    .dataframe thead th {\n",
       "        text-align: right;\n",
       "    }\n",
       "</style>\n",
       "<table border=\"1\" class=\"dataframe\">\n",
       "  <thead>\n",
       "    <tr style=\"text-align: right;\">\n",
       "      <th></th>\n",
       "      <th>assay_category</th>\n",
       "      <th>assay_cell_type</th>\n",
       "      <th>assay_chembl_id</th>\n",
       "      <th>assay_classifications</th>\n",
       "      <th>assay_organism</th>\n",
       "      <th>assay_parameters</th>\n",
       "      <th>assay_strain</th>\n",
       "      <th>assay_subcellular_fraction</th>\n",
       "      <th>assay_tax_id</th>\n",
       "      <th>assay_test_type</th>\n",
       "      <th>...</th>\n",
       "      <th>confidence_score</th>\n",
       "      <th>description</th>\n",
       "      <th>document_chembl_id</th>\n",
       "      <th>relationship_description</th>\n",
       "      <th>relationship_type</th>\n",
       "      <th>src_assay_id</th>\n",
       "      <th>src_id</th>\n",
       "      <th>target_chembl_id</th>\n",
       "      <th>tissue_chembl_id</th>\n",
       "      <th>variant_sequence</th>\n",
       "    </tr>\n",
       "  </thead>\n",
       "  <tbody>\n",
       "    <tr>\n",
       "      <th>0</th>\n",
       "      <td>None</td>\n",
       "      <td>None</td>\n",
       "      <td>CHEMBL4407571</td>\n",
       "      <td>[]</td>\n",
       "      <td>Homo sapiens</td>\n",
       "      <td>[]</td>\n",
       "      <td>None</td>\n",
       "      <td>None</td>\n",
       "      <td>9606</td>\n",
       "      <td>None</td>\n",
       "      <td>...</td>\n",
       "      <td>9</td>\n",
       "      <td>Inhibition of full-length recombinant human Hi...</td>\n",
       "      <td>CHEMBL4406811</td>\n",
       "      <td>Direct protein target assigned</td>\n",
       "      <td>D</td>\n",
       "      <td>None</td>\n",
       "      <td>1</td>\n",
       "      <td>CHEMBL5251</td>\n",
       "      <td>None</td>\n",
       "      <td>None</td>\n",
       "    </tr>\n",
       "    <tr>\n",
       "      <th>1</th>\n",
       "      <td>None</td>\n",
       "      <td>None</td>\n",
       "      <td>CHEMBL4407571</td>\n",
       "      <td>[]</td>\n",
       "      <td>Homo sapiens</td>\n",
       "      <td>[]</td>\n",
       "      <td>None</td>\n",
       "      <td>None</td>\n",
       "      <td>9606</td>\n",
       "      <td>None</td>\n",
       "      <td>...</td>\n",
       "      <td>9</td>\n",
       "      <td>Inhibition of full-length recombinant human Hi...</td>\n",
       "      <td>CHEMBL4406811</td>\n",
       "      <td>Direct protein target assigned</td>\n",
       "      <td>D</td>\n",
       "      <td>None</td>\n",
       "      <td>1</td>\n",
       "      <td>CHEMBL5251</td>\n",
       "      <td>None</td>\n",
       "      <td>None</td>\n",
       "    </tr>\n",
       "    <tr>\n",
       "      <th>2</th>\n",
       "      <td>None</td>\n",
       "      <td>None</td>\n",
       "      <td>CHEMBL4685326</td>\n",
       "      <td>[]</td>\n",
       "      <td>Homo sapiens</td>\n",
       "      <td>[]</td>\n",
       "      <td>None</td>\n",
       "      <td>None</td>\n",
       "      <td>9606</td>\n",
       "      <td>None</td>\n",
       "      <td>...</td>\n",
       "      <td>9</td>\n",
       "      <td>Inhibition of recombinant human His-tagged ful...</td>\n",
       "      <td>CHEMBL4680201</td>\n",
       "      <td>Direct protein target assigned</td>\n",
       "      <td>D</td>\n",
       "      <td>None</td>\n",
       "      <td>1</td>\n",
       "      <td>CHEMBL5251</td>\n",
       "      <td>None</td>\n",
       "      <td>None</td>\n",
       "    </tr>\n",
       "    <tr>\n",
       "      <th>3</th>\n",
       "      <td>None</td>\n",
       "      <td>None</td>\n",
       "      <td>CHEMBL4687850</td>\n",
       "      <td>[]</td>\n",
       "      <td>Homo sapiens</td>\n",
       "      <td>[]</td>\n",
       "      <td>None</td>\n",
       "      <td>None</td>\n",
       "      <td>9606</td>\n",
       "      <td>None</td>\n",
       "      <td>...</td>\n",
       "      <td>9</td>\n",
       "      <td>Inhibition of human BTK assessed as residual a...</td>\n",
       "      <td>CHEMBL4680285</td>\n",
       "      <td>Direct protein target assigned</td>\n",
       "      <td>D</td>\n",
       "      <td>None</td>\n",
       "      <td>1</td>\n",
       "      <td>CHEMBL5251</td>\n",
       "      <td>None</td>\n",
       "      <td>None</td>\n",
       "    </tr>\n",
       "  </tbody>\n",
       "</table>\n",
       "<p>4 rows × 27 columns</p>\n",
       "</div>"
      ],
      "text/plain": [
       "  assay_category assay_cell_type assay_chembl_id assay_classifications  \\\n",
       "0           None            None   CHEMBL4407571                    []   \n",
       "1           None            None   CHEMBL4407571                    []   \n",
       "2           None            None   CHEMBL4685326                    []   \n",
       "3           None            None   CHEMBL4687850                    []   \n",
       "\n",
       "  assay_organism assay_parameters assay_strain assay_subcellular_fraction  \\\n",
       "0   Homo sapiens               []         None                       None   \n",
       "1   Homo sapiens               []         None                       None   \n",
       "2   Homo sapiens               []         None                       None   \n",
       "3   Homo sapiens               []         None                       None   \n",
       "\n",
       "   assay_tax_id assay_test_type  ... confidence_score  \\\n",
       "0          9606            None  ...                9   \n",
       "1          9606            None  ...                9   \n",
       "2          9606            None  ...                9   \n",
       "3          9606            None  ...                9   \n",
       "\n",
       "                                         description document_chembl_id  \\\n",
       "0  Inhibition of full-length recombinant human Hi...      CHEMBL4406811   \n",
       "1  Inhibition of full-length recombinant human Hi...      CHEMBL4406811   \n",
       "2  Inhibition of recombinant human His-tagged ful...      CHEMBL4680201   \n",
       "3  Inhibition of human BTK assessed as residual a...      CHEMBL4680285   \n",
       "\n",
       "         relationship_description relationship_type src_assay_id src_id  \\\n",
       "0  Direct protein target assigned                 D         None      1   \n",
       "1  Direct protein target assigned                 D         None      1   \n",
       "2  Direct protein target assigned                 D         None      1   \n",
       "3  Direct protein target assigned                 D         None      1   \n",
       "\n",
       "   target_chembl_id tissue_chembl_id variant_sequence  \n",
       "0        CHEMBL5251             None             None  \n",
       "1        CHEMBL5251             None             None  \n",
       "2        CHEMBL5251             None             None  \n",
       "3        CHEMBL5251             None             None  \n",
       "\n",
       "[4 rows x 27 columns]"
      ]
     },
     "execution_count": 58,
     "metadata": {},
     "output_type": "execute_result"
    }
   ],
   "source": [
    "df_res_assay = pd.DataFrame.from_records(res_admet)\n",
    "df_res_assay.head()"
   ]
  },
  {
   "cell_type": "code",
   "execution_count": null,
   "metadata": {},
   "outputs": [],
   "source": []
  }
 ],
 "metadata": {
  "kernelspec": {
   "display_name": "Python 3 (ipykernel)",
   "language": "python",
   "name": "python3"
  },
  "language_info": {
   "codemirror_mode": {
    "name": "ipython",
    "version": 3
   },
   "file_extension": ".py",
   "mimetype": "text/x-python",
   "name": "python",
   "nbconvert_exporter": "python",
   "pygments_lexer": "ipython3",
   "version": "3.7.11"
  },
  "toc-autonumbering": true,
  "toc-showmarkdowntxt": false,
  "toc-showtags": false,
  "widgets": {
   "application/vnd.jupyter.widget-state+json": {
    "state": {},
    "version_major": 2,
    "version_minor": 0
   }
  }
 },
 "nbformat": 4,
 "nbformat_minor": 4
}
